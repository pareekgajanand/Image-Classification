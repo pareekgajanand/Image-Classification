{
 "cells": [
  {
   "cell_type": "code",
   "execution_count": 1,
   "id": "e4a18571",
   "metadata": {},
   "outputs": [],
   "source": [
    "import tensorflow as tf\n"
   ]
  },
  {
   "cell_type": "markdown",
   "id": "5d34e195",
   "metadata": {},
   "source": [
    "## I have Trainned model for Image classification for classes('buildings', 'forest', 'glacier', 'mountain', 'sea', 'street')"
   ]
  },
  {
   "cell_type": "code",
   "execution_count": 2,
   "id": "ef00be8b",
   "metadata": {},
   "outputs": [],
   "source": [
    "load_image_model = tf.keras.models.load_model(\"6_class_image.h5\")"
   ]
  },
  {
   "cell_type": "code",
   "execution_count": 4,
   "id": "dcb02ee5",
   "metadata": {},
   "outputs": [],
   "source": [
    "def load_and_prep_image(filename,img_shape=224):\n",
    "    \n",
    "    img = tf.io.read_file(filename)\n",
    "    \n",
    "    img = tf.image.decode_image(img)\n",
    "    img = tf.image.resize(img,size = [img_shape,img_shape])\n",
    "   \n",
    "    \n",
    "    \n",
    "    img = img/255.\n",
    "    return img"
   ]
  },
  {
   "cell_type": "code",
   "execution_count": 6,
   "id": "22e04cdd",
   "metadata": {},
   "outputs": [],
   "source": [
    "class_names = ['buildings', 'forest', 'glacier', 'mountain', 'sea', 'street']"
   ]
  },
  {
   "cell_type": "code",
   "execution_count": 9,
   "id": "fb756eb9",
   "metadata": {},
   "outputs": [],
   "source": [
    "def pred_and_plot(model,filename,class_names=class_names):\n",
    "    img = load_and_prep_image(filename)\n",
    "    pred = model.predict(tf.expand_dims(img,axis=0)) \n",
    "    if len(pred[0])>1:\n",
    "        pred_class = class_names[tf.argmax(pred[0])]\n",
    "    else:\n",
    "        pred_class = class_names[int(tf.round(pred))]\n",
    "    return pred_class"
   ]
  },
  {
   "cell_type": "code",
   "execution_count": 10,
   "id": "77bc457e",
   "metadata": {},
   "outputs": [
    {
     "name": "stdout",
     "output_type": "stream",
     "text": [
      "1/1 [==============================] - 0s 19ms/step\n"
     ]
    },
    {
     "data": {
      "text/plain": [
       "'buildings'"
      ]
     },
     "execution_count": 10,
     "metadata": {},
     "output_type": "execute_result"
    }
   ],
   "source": [
    "pred_and_plot(model=load_image_model,filename=\"5.jpg\",class_names=class_names)"
   ]
  },
  {
   "cell_type": "code",
   "execution_count": 13,
   "id": "62852126",
   "metadata": {},
   "outputs": [
    {
     "ename": "NameError",
     "evalue": "name '__name' is not defined",
     "output_type": "error",
     "traceback": [
      "\u001b[0;31m---------------------------------------------------------------------------\u001b[0m",
      "\u001b[0;31mNameError\u001b[0m                                 Traceback (most recent call last)",
      "Cell \u001b[0;32mIn[13], line 3\u001b[0m\n\u001b[1;32m      1\u001b[0m \u001b[38;5;28;01mfrom\u001b[39;00m \u001b[38;5;21;01mflask\u001b[39;00m \u001b[38;5;28;01mimport\u001b[39;00m Flask, request, jsonify\n\u001b[0;32m----> 3\u001b[0m app \u001b[38;5;241m=\u001b[39m Flask(\u001b[43m__name\u001b[49m)\n\u001b[1;32m      5\u001b[0m \u001b[38;5;129m@app\u001b[39m\u001b[38;5;241m.\u001b[39mroute(\u001b[38;5;124m'\u001b[39m\u001b[38;5;124m/\u001b[39m\u001b[38;5;124m'\u001b[39m)\n\u001b[1;32m      6\u001b[0m \u001b[38;5;28;01mdef\u001b[39;00m \u001b[38;5;21mindex\u001b[39m():\n\u001b[1;32m      7\u001b[0m     \u001b[38;5;28;01mreturn\u001b[39;00m \u001b[38;5;28mopen\u001b[39m(\u001b[38;5;124m'\u001b[39m\u001b[38;5;124mindex.html\u001b[39m\u001b[38;5;124m'\u001b[39m)\u001b[38;5;241m.\u001b[39mread()\n",
      "\u001b[0;31mNameError\u001b[0m: name '__name' is not defined"
     ]
    }
   ],
   "source": [
    "from flask import Flask, request, jsonify\n",
    "\n",
    "app = Flask(__name)\n",
    "\n",
    "@app.route('/')\n",
    "def index():\n",
    "    return open('index.html').read()\n",
    "\n",
    "@app.route('/upload', methods=['POST'])\n",
    "def upload_image():\n",
    "    image = request.files['image']\n",
    "    return jsonify({'message': 'Image uploaded successfully.'})\n",
    "\n",
    "if __name__ == '__main__':\n",
    "    app.run(debug=True)\n"
   ]
  },
  {
   "cell_type": "code",
   "execution_count": null,
   "id": "06b6f2e5",
   "metadata": {},
   "outputs": [],
   "source": []
  }
 ],
 "metadata": {
  "kernelspec": {
   "display_name": "Python 3 (ipykernel)",
   "language": "python",
   "name": "python3"
  },
  "language_info": {
   "codemirror_mode": {
    "name": "ipython",
    "version": 3
   },
   "file_extension": ".py",
   "mimetype": "text/x-python",
   "name": "python",
   "nbconvert_exporter": "python",
   "pygments_lexer": "ipython3",
   "version": "3.10.9"
  }
 },
 "nbformat": 4,
 "nbformat_minor": 5
}
